{
 "cells": [
  {
   "cell_type": "code",
   "execution_count": 1,
   "id": "dd16ef69",
   "metadata": {},
   "outputs": [],
   "source": [
    "import os\n",
    "import cv2\n",
    "import numpy as np\n",
    "import matplotlib.pyplot as plt\n",
    "import matplotlib.patches as patches\n",
    "import json\n",
    "\n",
    "\n",
    "\n",
    "# Now we can import directly from the installed package\n",
    "from sam2.build_sam import build_sam2\n",
    "from sam2.sam2_image_predictor import SAM2ImagePredictor\n"
   ]
  },
  {
   "cell_type": "code",
   "execution_count": 2,
   "id": "a349f18c",
   "metadata": {},
   "outputs": [],
   "source": [
    "data_path = '/home/ubuntu/code/drew/test_data/'"
   ]
  },
  {
   "cell_type": "code",
   "execution_count": 3,
   "id": "810cf145",
   "metadata": {},
   "outputs": [],
   "source": [
    "detections = f'{data_path}detections'\n",
    "objects = f'{data_path}objects'"
   ]
  },
  {
   "cell_type": "code",
   "execution_count": 4,
   "id": "d9e0a759",
   "metadata": {},
   "outputs": [],
   "source": [
    "import json\n",
    "\n",
    "def load_json(filepath):\n",
    "    \"\"\"\n",
    "    Load a JSON file from the given filepath.\n",
    "\n",
    "    Args:\n",
    "        filepath (str): Path to the JSON file.\n",
    "\n",
    "    Returns:\n",
    "        dict: Parsed JSON data.\n",
    "    \"\"\"\n",
    "    with open(filepath, 'r') as file:\n",
    "        data = json.load(file)\n",
    "    return data\n",
    "\n",
    "def load_image(filepath):\n",
    "    \"\"\"\n",
    "    Load an image from the given filepath.\n",
    "\n",
    "    Args:\n",
    "        filepath (str): Path to the image file.\n",
    "\n",
    "    Returns:\n",
    "        numpy.ndarray: Loaded image.\n",
    "    \"\"\"\n",
    "    image = cv2.imread(filepath)\n",
    "    return image"
   ]
  },
  {
   "cell_type": "code",
   "execution_count": null,
   "id": "c25636d4",
   "metadata": {},
   "outputs": [
    {
     "name": "stdout",
     "output_type": "stream",
     "text": [
      "/home/ubuntu/code/drew/test_data/detections/Scenes 001-020__106D-5-_20230815151758589\n",
      "item_indice 0\n",
      "label blue_screen\n",
      "filename 118\n",
      "item_indice 1\n",
      "label sandy_ground\n",
      "filename 118\n",
      "item_indice 2\n",
      "label tripod\n",
      "filename 118\n",
      "item_indice 3\n",
      "label camera\n",
      "filename 118\n",
      "item_indice 4\n",
      "label tablet\n",
      "filename 118\n",
      "item_indice 5\n",
      "label black_lighting_equipment\n",
      "filename 118\n",
      "item_indice 6\n",
      "label trees\n",
      "filename 118\n",
      "/home/ubuntu/code/drew/test_data/detections/Scenes 001-020__101B-1-_20230726152900590\n",
      "item_indice 0\n",
      "label Wall\n",
      "filename 85\n",
      "item_indice 1\n",
      "label Ornate_Mirror\n",
      "filename 85\n",
      "item_indice 2\n",
      "label Left_Lamp_Shade\n",
      "filename 85\n",
      "item_indice 3\n",
      "label Left_Lamp_Base\n",
      "filename 85\n",
      "item_indice 4\n",
      "label Left_Table\n",
      "filename 85\n",
      "item_indice 5\n",
      "label Right_Lamp_Shade\n",
      "filename 85\n",
      "item_indice 6\n",
      "label Black_Vest\n",
      "filename 85\n",
      "item_indice 7\n",
      "label Shoulder_Armor\n",
      "filename 85\n",
      "item_indice 8\n",
      "label Glowing_Object_(in_reflection)\n",
      "filename 85\n"
     ]
    }
   ],
   "source": [
    "for folder in os.listdir(detections):\n",
    "    folder_path = os.path.join(detections, folder)\n",
    "    print(folder_path)\n",
    "    if os.path.isdir(folder_path):\n",
    "        for file in os.listdir(folder_path):\n",
    "            if file.endswith('.json'):\n",
    "                json_path = os.path.join(folder_path, file)\n",
    "                json_data = load_json(json_path)\n",
    "                for i,entry in enumerate(json_data):\n",
    "                    print(f'item_indice {i}')\n",
    "                    label = entry['label']\n",
    "                    print(f'label {label.replace(' ','_')}')\n",
    "                    print(f'filename {file.split(\".\")[0]}')\n",
    "                    base_filename = file.split('.')[0]\n",
    "\n",
    "                    image_name = \n",
    "\n",
    "                break"
   ]
  },
  {
   "cell_type": "code",
   "execution_count": null,
   "id": "3a03244b",
   "metadata": {},
   "outputs": [],
   "source": []
  }
 ],
 "metadata": {
  "kernelspec": {
   "display_name": "venv",
   "language": "python",
   "name": "python3"
  },
  "language_info": {
   "codemirror_mode": {
    "name": "ipython",
    "version": 3
   },
   "file_extension": ".py",
   "mimetype": "text/x-python",
   "name": "python",
   "nbconvert_exporter": "python",
   "pygments_lexer": "ipython3",
   "version": "3.12.3"
  }
 },
 "nbformat": 4,
 "nbformat_minor": 5
}
