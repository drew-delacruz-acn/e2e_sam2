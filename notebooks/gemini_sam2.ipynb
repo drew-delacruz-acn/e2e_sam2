{
 "cells": [
  {
   "cell_type": "code",
   "execution_count": null,
   "id": "dd16ef69",
   "metadata": {},
   "outputs": [],
   "source": []
  },
  {
   "cell_type": "code",
   "execution_count": null,
   "id": "a349f18c",
   "metadata": {},
   "outputs": [],
   "source": [
    "data_path = '/home/ubuntu/code/drew/test_data/'"
   ]
  },
  {
   "cell_type": "code",
   "execution_count": null,
   "id": "810cf145",
   "metadata": {},
   "outputs": [],
   "source": [
    "detections = f'{data_path}detections'\n",
    "objects = f'{data_path}objects'"
   ]
  }
 ],
 "metadata": {
  "kernelspec": {
   "display_name": "venv",
   "language": "python",
   "name": "python3"
  },
  "language_info": {
   "codemirror_mode": {
    "name": "ipython",
    "version": 3
   },
   "file_extension": ".py",
   "mimetype": "text/x-python",
   "name": "python",
   "nbconvert_exporter": "python",
   "pygments_lexer": "ipython3",
   "version": "3.12.3"
  }
 },
 "nbformat": 4,
 "nbformat_minor": 5
}
